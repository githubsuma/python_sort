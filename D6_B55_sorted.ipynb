{
 "cells": [
  {
   "cell_type": "code",
   "execution_count": null,
   "id": "47e32c37",
   "metadata": {},
   "outputs": [],
   "source": [
    "organising the list datatype"
   ]
  },
  {
   "cell_type": "code",
   "execution_count": 1,
   "id": "01b9c8ef",
   "metadata": {},
   "outputs": [
    {
     "name": "stdout",
     "output_type": "stream",
     "text": [
      "['benz', 'audi', 'bmw', 'maruthi', 'kia', 'hyundai']\n"
     ]
    }
   ],
   "source": [
    "cars = ['benz','audi','bmw','maruthi','kia','hyundai']\n",
    "print(cars)"
   ]
  },
  {
   "cell_type": "code",
   "execution_count": 2,
   "id": "a5aa78bb",
   "metadata": {},
   "outputs": [
    {
     "name": "stdout",
     "output_type": "stream",
     "text": [
      "['audi', 'benz', 'bmw', 'hyundai', 'kia', 'maruthi']\n"
     ]
    }
   ],
   "source": [
    "print(sorted(cars))"
   ]
  },
  {
   "cell_type": "code",
   "execution_count": 3,
   "id": "c1708ef3",
   "metadata": {},
   "outputs": [
    {
     "name": "stdout",
     "output_type": "stream",
     "text": [
      "['benz', 'audi', 'bmw', 'maruthi', 'kia', 'hyundai']\n"
     ]
    }
   ],
   "source": [
    "print(cars)"
   ]
  },
  {
   "cell_type": "code",
   "execution_count": 4,
   "id": "bd94f4a2",
   "metadata": {},
   "outputs": [
    {
     "name": "stdout",
     "output_type": "stream",
     "text": [
      "['audi', 'benz', 'bmw', 'hyundai', 'kia', 'maruthi']\n"
     ]
    }
   ],
   "source": [
    "cars.sort()\n",
    "print(cars)"
   ]
  },
  {
   "cell_type": "code",
   "execution_count": 5,
   "id": "b7285224",
   "metadata": {},
   "outputs": [
    {
     "name": "stdout",
     "output_type": "stream",
     "text": [
      "['audi', 'benz', 'bmw', 'hyundai', 'kia', 'maruthi']\n"
     ]
    }
   ],
   "source": [
    "print(cars)"
   ]
  },
  {
   "cell_type": "code",
   "execution_count": 6,
   "id": "3b97cdcc",
   "metadata": {},
   "outputs": [
    {
     "name": "stdout",
     "output_type": "stream",
     "text": [
      "['maruthi', 'kia', 'hyundai', 'bmw', 'benz', 'audi']\n"
     ]
    }
   ],
   "source": [
    "cars.reverse()\n",
    "print(cars)"
   ]
  },
  {
   "cell_type": "code",
   "execution_count": 7,
   "id": "645c0dae",
   "metadata": {},
   "outputs": [
    {
     "data": {
      "text/plain": [
       "6"
      ]
     },
     "execution_count": 7,
     "metadata": {},
     "output_type": "execute_result"
    }
   ],
   "source": [
    "len(cars)"
   ]
  },
  {
   "cell_type": "code",
   "execution_count": 9,
   "id": "d2c11c70",
   "metadata": {},
   "outputs": [
    {
     "name": "stdout",
     "output_type": "stream",
     "text": [
      "['mounvi']\n"
     ]
    }
   ],
   "source": [
    "students = ['mounvi','sanjay','rishi','rithwik','sowmi','buddu']\n",
    "print(students[0:1])"
   ]
  },
  {
   "cell_type": "code",
   "execution_count": 10,
   "id": "db50ca49",
   "metadata": {},
   "outputs": [
    {
     "name": "stdout",
     "output_type": "stream",
     "text": [
      "['mounvi', 'sanjay']\n"
     ]
    }
   ],
   "source": [
    "print(students[0:2])"
   ]
  },
  {
   "cell_type": "code",
   "execution_count": 11,
   "id": "50d8e3e2",
   "metadata": {},
   "outputs": [
    {
     "name": "stdout",
     "output_type": "stream",
     "text": [
      "['rishi', 'rithwik']\n"
     ]
    }
   ],
   "source": [
    "print(students[2:4])"
   ]
  },
  {
   "cell_type": "code",
   "execution_count": 12,
   "id": "b973dfb8",
   "metadata": {},
   "outputs": [
    {
     "name": "stdout",
     "output_type": "stream",
     "text": [
      "['mounvi', 'rishi', 'sowmi']\n"
     ]
    }
   ],
   "source": [
    "print(students[0:6:2])"
   ]
  },
  {
   "cell_type": "code",
   "execution_count": 13,
   "id": "3c3ddc1c",
   "metadata": {},
   "outputs": [
    {
     "name": "stdout",
     "output_type": "stream",
     "text": [
      "['mounvi', 'sanjay', 'rishi', 'rithwik', 'sowmi', 'buddu']\n"
     ]
    }
   ],
   "source": [
    "print(students[0:6:1])"
   ]
  },
  {
   "cell_type": "code",
   "execution_count": 14,
   "id": "5c645638",
   "metadata": {},
   "outputs": [
    {
     "name": "stdout",
     "output_type": "stream",
     "text": [
      "['mounvi', 'rithwik']\n"
     ]
    }
   ],
   "source": [
    "print(students[0:6:3])"
   ]
  },
  {
   "cell_type": "code",
   "execution_count": 15,
   "id": "64bf7424",
   "metadata": {},
   "outputs": [
    {
     "name": "stdout",
     "output_type": "stream",
     "text": [
      "['mounvi', 'sowmi']\n"
     ]
    }
   ],
   "source": [
    "print(students[0:6:4])"
   ]
  },
  {
   "cell_type": "code",
   "execution_count": 16,
   "id": "c1f9dee8",
   "metadata": {},
   "outputs": [
    {
     "name": "stdout",
     "output_type": "stream",
     "text": [
      "['mounvi', 'buddu']\n"
     ]
    }
   ],
   "source": [
    "print(students[0:6:5])"
   ]
  },
  {
   "cell_type": "code",
   "execution_count": 17,
   "id": "3214a10b",
   "metadata": {},
   "outputs": [
    {
     "name": "stdout",
     "output_type": "stream",
     "text": [
      "['mounvi']\n"
     ]
    }
   ],
   "source": [
    "print(students[0:6:6])"
   ]
  },
  {
   "cell_type": "code",
   "execution_count": 18,
   "id": "63197248",
   "metadata": {},
   "outputs": [
    {
     "name": "stdout",
     "output_type": "stream",
     "text": [
      "['mounvi']\n"
     ]
    }
   ],
   "source": [
    "print(students[0:6:7])"
   ]
  },
  {
   "cell_type": "code",
   "execution_count": 19,
   "id": "d4b17879",
   "metadata": {},
   "outputs": [
    {
     "name": "stdout",
     "output_type": "stream",
     "text": [
      "['sanjay', 'rithwik', 'buddu']\n"
     ]
    }
   ],
   "source": [
    "print(students[1:6:2])"
   ]
  },
  {
   "cell_type": "code",
   "execution_count": 20,
   "id": "fffad66b",
   "metadata": {},
   "outputs": [
    {
     "name": "stdout",
     "output_type": "stream",
     "text": [
      "['sanjay', 'rishi', 'rithwik', 'sowmi', 'buddu']\n"
     ]
    }
   ],
   "source": [
    "print(students[1:6:1])"
   ]
  },
  {
   "cell_type": "code",
   "execution_count": null,
   "id": "c299bac9",
   "metadata": {},
   "outputs": [],
   "source": []
  }
 ],
 "metadata": {
  "kernelspec": {
   "display_name": "Python 3 (ipykernel)",
   "language": "python",
   "name": "python3"
  },
  "language_info": {
   "codemirror_mode": {
    "name": "ipython",
    "version": 3
   },
   "file_extension": ".py",
   "mimetype": "text/x-python",
   "name": "python",
   "nbconvert_exporter": "python",
   "pygments_lexer": "ipython3",
   "version": "3.9.7"
  }
 },
 "nbformat": 4,
 "nbformat_minor": 5
}
